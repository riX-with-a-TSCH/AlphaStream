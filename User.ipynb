{
 "cells": [
  {
   "cell_type": "code",
   "execution_count": 4,
   "id": "fd00db91-750d-47b6-a1cb-f2030bee20b2",
   "metadata": {},
   "outputs": [],
   "source": [
    "%run AlphaStream.ipynb"
   ]
  },
  {
   "cell_type": "code",
   "execution_count": 7,
   "id": "be85f515-6420-4273-a405-113cf1f4af8d",
   "metadata": {},
   "outputs": [],
   "source": [
    "rico({\"Pim1\":range(2,4), \"Mam33\": range(3,5)})"
   ]
  }
 ],
 "metadata": {
  "kernelspec": {
   "display_name": "Python 3 (ipykernel)",
   "language": "python",
   "name": "python3"
  },
  "language_info": {
   "codemirror_mode": {
    "name": "ipython",
    "version": 3
   },
   "file_extension": ".py",
   "mimetype": "text/x-python",
   "name": "python",
   "nbconvert_exporter": "python",
   "pygments_lexer": "ipython3",
   "version": "3.12.9"
  }
 },
 "nbformat": 4,
 "nbformat_minor": 5
}
