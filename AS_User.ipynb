{
 "cells": [
  {
   "cell_type": "code",
   "execution_count": 1,
   "id": "fd00db91-750d-47b6-a1cb-f2030bee20b2",
   "metadata": {},
   "outputs": [],
   "source": [
    "# ## Run AlphaStream Script\n",
    "# %run AlphaStream.ipynb\n",
    "import AlphaStream as mit"
   ]
  },
  {
   "cell_type": "markdown",
   "id": "8d898895-6271-4edc-98e3-5b327e8c8bdf",
   "metadata": {},
   "source": [
    "# Blueprints"
   ]
  },
  {
   "cell_type": "code",
   "execution_count": null,
   "id": "d2dbed67-8008-4f2f-8296-d48241484616",
   "metadata": {},
   "outputs": [],
   "source": [
    "## Get a sequence:\n",
    "#mit.get_uniprot_sequence(\"mam33\")\n",
    "#mit.create_af3_job(\"Mam33\")\n",
    "\n",
    "## Single Protein Inference Tasker;\n",
    "# mit.split(\"MGNVKVGIVLCDALDKGWEKKKKYPQNIVQLQDADGQLTERSVKIIARKTTLDGLHNIEQAKRHFNQVAADYYEACSVASKYETGIRNPVLGLNVGVPIATEGARALTPPVHWDLGKQDLGDADVEEVIIAELSKRQ\")\n",
    "# mit.split(\"YBL022C\", count = 3, template = True, file_name = \"\", name_prefix=\"af3_job\")\n",
    "# mit.split(\"YBL022C\", \"Pim1\", count = [2,3], file_name = \"DenkDirWasAus\")\n",
    "\n",
    "## Aggregate Compound Entities:\n",
    "# mit.ace(*protein_compounds, template = True, name_prefix = \"ace\", file_name = \"\", name = \"\", ashelper = False)\n",
    "# mit.ace({\"Pim1\" : 1, \"YBL022C\": 22}, {\"mam33\" : 4, \"fcyx\" : 1}, file_name = \"NowYouSeeMe\")\n",
    "\n",
    "## Run Iterative Compound Operation:\n",
    "# mit.rico({\"Pim1\" : 1, \"fcyx\" : range(2,5)}, template = True, name_prefix = \"rico\", file_name = \"\")\n",
    "# mit.rico({\"Pim1\" : 1, \"MGNVKVGIVLCDALDKGWEKKKKYPQNIVQLQDADGQLTERSVKIIARKTTLDGLHNIEQAKRHFNQVAADYYEACSVASKYETGIRNPVLGLNVGVPIATEGARALTPPVHWDLGKQDLGDADVEEVIIAELSKRQ\" : range(2,5)}, file_name = \"RicoUndOscar\")\n"
   ]
  },
  {
   "cell_type": "markdown",
   "id": "262d225c-7953-450e-9792-41c4e57e613e",
   "metadata": {},
   "source": [
    "# Your Code"
   ]
  },
  {
   "cell_type": "code",
   "execution_count": null,
   "id": "79d6deb2-a901-4e0f-a507-b6ec8f432b75",
   "metadata": {},
   "outputs": [],
   "source": []
  }
 ],
 "metadata": {
  "kernelspec": {
   "display_name": "Python 3 (ipykernel)",
   "language": "python",
   "name": "python3"
  },
  "language_info": {
   "codemirror_mode": {
    "name": "ipython",
    "version": 3
   },
   "file_extension": ".py",
   "mimetype": "text/x-python",
   "name": "python",
   "nbconvert_exporter": "python",
   "pygments_lexer": "ipython3",
   "version": "3.12.9"
  }
 },
 "nbformat": 4,
 "nbformat_minor": 5
}
