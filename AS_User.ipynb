{
 "cells": [
  {
   "cell_type": "code",
   "execution_count": 1,
   "id": "fd00db91-750d-47b6-a1cb-f2030bee20b2",
   "metadata": {},
   "outputs": [],
   "source": [
    "import AlphaStream as mit"
   ]
  },
  {
   "cell_type": "markdown",
   "id": "206d56f8-628e-4e93-8776-93381fbd5e38",
   "metadata": {
    "jp-MarkdownHeadingCollapsed": true
   },
   "source": [
    "# Blueprints"
   ]
  },
  {
   "cell_type": "markdown",
   "id": "77aeb7a6-3e38-462b-95d3-8f2147b51321",
   "metadata": {},
   "source": [
    "***\n",
    "### Things to remember:\n",
    "\n",
    "> 1. When this window gets annoying, click the arrow pointing down that's on the left of \"Blueprints\"\n",
    "> 2. AlphaStream Functions will create files in your current directory.\n",
    "> 3. Before using the functions, run the first block of code one cell above ```import AlphaStream as mit```\n",
    "> 4. If you decide to use the file_name parameter, make sure its only a sequence of letters in a string like: 'thisisafilename'\n",
    "> 5. This current version supports protein combinations only.\n",
    "> 6. In split, ace and rico you can input the sequence of the protein as a string instead of its name. Then in the file, the first 7 letters of the sequence will be used as a name for that protein\n",
    "> 7. Future versions will include:\n",
    ">     - Have parameters to include ligands, ions etc.\n",
    ">     - Function that map 1 (or more) protein(s) to a list of more proteins\n",
    ">     - Function that filters out relevant information from an AlphaFold result\n",
    "***\n",
    "\n",
    "## To get a sequence:\n",
    "Use this to input the name of a protein in quotations marks (= string) and get the sequence from uniprot\n",
    "```python\n",
    "mit.get_uniprot_sequence(\"mam33\")\n",
    "```\n",
    "\n",
    "\n",
    "## SPLIT:\n",
    "Function that takes one to multiple protein names as strings and makes alphafold predict each one separately.   \n",
    "You can add a **list** of counts to change the count for every protein, it must be in according order.  \n",
    "`Input:`  \n",
    "   - protein_names : one or multiple strings  \n",
    "   - count : integer OR list, order must be according to protein name order  \n",
    "   - file_name : string - choose the name of the json file :)\n",
    "\n",
    "```python\n",
    "mit.split(\"MGNVKVGIVLCDALDKGWEKKKKYPQNIVQLQDADGQLTERSVKIIARKTTLDGLHNIEQAKRHFNQVAADYYEACSVASKYETGIRNPVLGLNVGVPIATEGARALTPPVHWDLGKQDLGDADVEEVIIAELSKRQ\")  \n",
    "mit.split(\"YBL022C\", count = 3)  \n",
    "mit.split(\"YBL022C\", \"Pim1\", count = [2,3], file_name = \"DenkDirWasAus\")\n",
    "```\n",
    "\n",
    "## ACE:\n",
    "Function that takes one or multiple dictionaries with protein names and their respective count.  \n",
    "`Input :`  \n",
    "   - protein_compounds : one or multiple dictionaries like such: {\"key\" : count}  \n",
    "        - key : string, the protein name or sequence  \n",
    "        - value : integer, is count\n",
    "   - file_name : string - choose the name of the json file :)\n",
    "```python\n",
    "mit.ace({\"Pim1\" : 1, \"YBL022C\": 22}, {\"whatever you want with a count of: \": 3, \"whatever else you want with a count of :\" : 2}, file_name = \"NowYouSeeMe\")\n",
    "```\n",
    "## RICO:\n",
    "This function creates *combinations of the count ranges* in your dictionary.  \n",
    "`Input:`  \n",
    "   - One single dictionary like such:\n",
    "     - { \"ProteinOrSequence\" : range(1,3), \"ProteinOrSequence\" : range(2,5), \"ProteinOrSequence\" : range(2,4) }.\n",
    "     - **very important**: the last digit of range will not be included, range(1,3) = 1,2  \n",
    "   - file_name : string - choose the name of the json file :)\n",
    "```python\n",
    "mit.rico({\"Pim1\" : range(1,2), \"fcyx\" : range(2,5)}, file_name = \"RicoUndOscar\")\n",
    "```\n"
   ]
  },
  {
   "cell_type": "markdown",
   "id": "262d225c-7953-450e-9792-41c4e57e613e",
   "metadata": {},
   "source": [
    "# Your Code:"
   ]
  },
  {
   "cell_type": "code",
   "execution_count": 13,
   "id": "79d6deb2-a901-4e0f-a507-b6ec8f432b75",
   "metadata": {},
   "outputs": [],
   "source": [
    "# Message me if anything doesn't work"
   ]
  }
 ],
 "metadata": {
  "kernelspec": {
   "display_name": "Python 3 (ipykernel)",
   "language": "python",
   "name": "python3"
  },
  "language_info": {
   "codemirror_mode": {
    "name": "ipython",
    "version": 3
   },
   "file_extension": ".py",
   "mimetype": "text/x-python",
   "name": "python",
   "nbconvert_exporter": "python",
   "pygments_lexer": "ipython3",
   "version": "3.12.9"
  }
 },
 "nbformat": 4,
 "nbformat_minor": 5
}
