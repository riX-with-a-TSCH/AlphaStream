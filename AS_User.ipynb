{
 "cells": [
  {
   "cell_type": "code",
   "execution_count": 3,
   "id": "fd00db91-750d-47b6-a1cb-f2030bee20b2",
   "metadata": {},
   "outputs": [],
   "source": [
    "import AlphaStream as mit"
   ]
  },
  {
   "cell_type": "markdown",
   "id": "206d56f8-628e-4e93-8776-93381fbd5e38",
   "metadata": {},
   "source": [
    "# Blueprints"
   ]
  },
  {
   "cell_type": "markdown",
   "id": "967cb56d-a2b3-4333-b5f3-87f22a886035",
   "metadata": {},
   "source": [
    "***\n",
    "### Things to remember:\n",
    "\n",
    "> 1. When this window gets annoying, click the arrow pointing down to the left of \"Blueprints\".\n",
    "> 2. AlphaStream functions will create files in your current directory.\n",
    "> 3. Before using the functions, run the first block of code one cell above: `import AlphaStream as mit`\n",
    "> 4. If you decide to use the `file_name` parameter, make sure it’s a string containing only letters, like `'thisisafilename'`. The filename will be time stamped to avoid overwriting files with the same name.\n",
    "> 5. This version currently supports protein combinations only.\n",
    "> 6. In `split`, `ace`, `rico` and `pair`, you can input the sequence of a protein as a string instead of its name. In the output file, the first 7 letters of the sequence will be used as the name for that protein.\n",
    "> 7. Future versions will include:\n",
    ">     - Parameters to include ligands, ions, DNA/RNA molecules etc.\n",
    ">     - A function that lets you run the jobs an AlphaFold installed locally\n",
    "***\n"
   ]
  },
  {
   "cell_type": "markdown",
   "id": "992ab7a9-ff96-4acc-92d1-332df9cae62e",
   "metadata": {},
   "source": [
    "## To get a sequence:\n",
    "Use this to input the name of a protein in quotation marks (as a string) and get the sequence from UniProt:\n",
    "```python\n",
    "mit.get_uniprot_sequence(\"mam33\")\n",
    "```  "
   ]
  },
  {
   "cell_type": "markdown",
   "id": "4282a85a-0fd3-48f1-9530-59dce15c0a18",
   "metadata": {},
   "source": [
    "## SPLIT:\n",
    "Function that takes one or more protein names as strings and makes AlphaFold predict each one separately.  \n",
    "You can add a **list** of counts to change the count for every protein — the order must match the order of the protein names.  \n",
    "  \n",
    "**INPUT:**  \n",
    "   - protein_names: one or more strings  \n",
    "   - count: integer OR list of integers — must match the order of protein names  \n",
    "   - file_name: string — use only letters\n",
    "\n",
    "```python\n",
    "mit.split(\"MGNVKVGIVLCDALDKGWEKKKKYPQNIVQLQDADGQLTERSVKIIARKTTLDGLHNIEQAKRHFNQVAADYYEACSVASKYETGIRNPVLGLNVGVPIATEGARALTPPVHWDLGKQDLGDADVEEVIIAELSKRQ\")  \n",
    "mit.split(\"YBL022C\", count = 3)  \n",
    "mit.split(\"YBL022C\", \"Pim1\", count = [2,3], file_name = \"DenkDirWasAus\")\n",
    "```\n"
   ]
  },
  {
   "cell_type": "markdown",
   "id": "7af6e347-5c35-48fa-879b-41cc46121e83",
   "metadata": {},
   "source": [
    "## ACE:\n",
    "This function lets you make predictions for multiple proteins together.  \n",
    "Function that takes one or more dictionaries with protein names and their respective counts.  \n",
    "It creates a job for every dictionary. \n",
    "  \n",
    "**INPUT:**  \n",
    "   - protein_compounds: one or more dictionaries like this: `{\"key\": count, \"anotherkey\", count}`  \n",
    "        - key: string — the protein name or sequence  \n",
    "        - value: integer — the count  \n",
    "   - file_name: string — use only letters\n",
    "```python\n",
    "mit.ace({\"Pim1\": 1, \"YBL022C\": 22}, {\"whatever_you_want\": 3, \"something_else\": 2}, file_name = \"NowYouSeeMe\")\n",
    "```"
   ]
  },
  {
   "cell_type": "markdown",
   "id": "29531511-c5aa-4aaa-a831-554e27be7afb",
   "metadata": {},
   "source": [
    "\n",
    "## RICO:\n",
    "this function lets you predict a combination of proteins, and it iterates over a range of protein amounts.  \n",
    "So you pass *one dictionary* with proteins you want to predict together, and you give them each a range - a different amount of times the protein can appear in the structure.  \n",
    "This function creates *combinations of the count ranges* in your dictionary.  \n",
    "It creates a job for every combination.  \n",
    "  \n",
    "**INPUT:**  \n",
    "   - One single dictionary like this:  \n",
    "     `{ \"ProteinOrSequence\": range(1,3), \"AnotherProtein\": range(2,5) }`  \n",
    "     **Important Note:** The last digit in `range` is not included. So `range(1,3)` gives 1 and 2.  \n",
    "   - file_name: string — use only letters\n",
    "```python\n",
    "mit.rico({\"Pim1\": range(1,3), \"fcyx\": range(2,5)}, file_name = \"RicoUndOscar\")\n",
    "```\n",
    "And this example would create jobs for:  \n",
    "1x Pim1 and 2x fcyx,  \n",
    "1x Pim1 and 3x fcxy,  \n",
    "1x Pim1 and 4x fcxy,  \n",
    "2x Pim1 and 2x fcxy,  \n",
    "2x Pim1 and 3x fcxy,  \n",
    "2x Pim1 and 4x fcxy."
   ]
  },
  {
   "cell_type": "markdown",
   "id": "63c5b09d-0ab8-415a-8b37-4f080ceb20f9",
   "metadata": {},
   "source": [
    "## PAIR:\n",
    "This function takes a list of proteins (called *protein_subjects*)  \n",
    "and as many additional proteins (called *protein_objects*) as you want.  \n",
    "It pairs the protein_subject with each protein_object using the specified counts.\n",
    "\n",
    "**INPUT:**  \n",
    "   - protein_subjects: a list (e.g. `[\"Pim1\", \"fcyx\"]`)  \n",
    "   - protein_objects: any number of proteins as strings  \n",
    "   - count: list of integers — must match the order of protein_objects (not for protein_subjects)\n",
    "   - file_name: string — use only letters\n",
    "```python\n",
    "mit.pair([\"Pim1\", \"fcyx\"], \"Mrpl15\", \"Mrpl20\", count = [2, 3], file_name = \"PairIsPronouncedPear\")\n",
    "```\n",
    "The example above will give you jobs for:  \n",
    "1×Pim1 + 1×fcyx + 2×Mrpl15, and  \n",
    "1×Pim1 + 1×fcyx + 3×Mrpl20.  \n",
    "\n",
    "**Note:** There is no count parameter for *protein_subjects*.  \n",
    "If you want to have 2× Pim1 as a subject, include it twice like this: `[\"Pim1\", \"Pim1\"]`, ...  \n"
   ]
  },
  {
   "cell_type": "markdown",
   "id": "6b1008c6-8516-4b43-b8e6-8a0a63ecdf73",
   "metadata": {},
   "source": [
    "\n",
    "\n",
    "\n",
    "## SEARCH:\n",
    "Once you've downloaded the AlphaFold results, place the result folder in the same directory as your scripts.  \n",
    "You can then run the `search` function to extract the results into a DataFrame.\n",
    "```python\n",
    "mit.search(\"name_of_the_folder_with_the_results\")\n",
    "```\n",
    "\n",
    "The resulting DataFrame will rank the downloaded files according to their **highest ranking-score**, along with its **ptm** and **iptm**  and some more values.  \n",
    "The ranking score explained by AlphaFold:  \n",
    "```\n",
    "For ranking of the full complex use the ranking_score (higher is better). This score uses overall structure confidences (pTM and ipTM), but also includes terms that penalize clashes and encourage disordered regions not to have spurious helices – these extra terms mean the score should only be used to rank structures.\n",
    "\n",
    "ranking_score: A scalar in the range [-100, 1.5] that can be used for ranking predictions, it incorporates ptm, iptm, fraction_disordered and has_clash into a single number with the following equation: 0.8 × ipTM + 0.2 × pTM + 0.5 × disorder − 100 × has_clash.\n",
    "```\n",
    "\n",
    "### Notes & Tips for SEARCH\n",
    "\n",
    "- When downloading from the AlphaFold server, **select all jobs** (that belong together in your research) **using the checkboxes** — the files will be bundled into a single folder.  \n",
    "  Use this folder name in the `search` function, once you moved it into your directory with the AlphaStream files.\n",
    "  \n",
    "- The last columns of the DataFrame correspond to the protein combination used — **but not by name** if you inputted a sequence.  \n",
    "  They show the **first 7 letters** of the amino acid sequence instead.  \n"
   ]
  },
  {
   "cell_type": "markdown",
   "id": "262d225c-7953-450e-9792-41c4e57e613e",
   "metadata": {},
   "source": [
    "# Your Code:"
   ]
  },
  {
   "cell_type": "code",
   "execution_count": 5,
   "id": "79d6deb2-a901-4e0f-a507-b6ec8f432b75",
   "metadata": {},
   "outputs": [],
   "source": [
    "# Message me if anything doesn't work"
   ]
  }
 ],
 "metadata": {
  "kernelspec": {
   "display_name": "Python 3 (ipykernel)",
   "language": "python",
   "name": "python3"
  },
  "language_info": {
   "codemirror_mode": {
    "name": "ipython",
    "version": 3
   },
   "file_extension": ".py",
   "mimetype": "text/x-python",
   "name": "python",
   "nbconvert_exporter": "python",
   "pygments_lexer": "ipython3",
   "version": "3.12.9"
  }
 },
 "nbformat": 4,
 "nbformat_minor": 5
}
